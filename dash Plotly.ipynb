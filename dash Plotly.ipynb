{
 "cells": [
  {
   "cell_type": "markdown",
   "id": "20cb06a1",
   "metadata": {},
   "source": [
    "### Importing Libraries"
   ]
  },
  {
   "cell_type": "code",
   "execution_count": 8,
   "id": "3e47b519",
   "metadata": {},
   "outputs": [],
   "source": [
    "import dash\n",
    "import dash_html_components as html\n",
    "import plotly.graph_objects as go\n",
    "import dash_core_components as dcc\n",
    "import plotly.express as px\n",
    "from dash.dependencies import Input, Output\n",
    "\n",
    "\n"
   ]
  },
  {
   "cell_type": "markdown",
   "id": "3248c56a",
   "metadata": {},
   "source": [
    "### Connecting to Data and forming graph using Plotly Express"
   ]
  },
  {
   "cell_type": "code",
   "execution_count": 17,
   "id": "3114b684",
   "metadata": {},
   "outputs": [],
   "source": [
    "app = dash.Dash()\n",
    "\n",
    "df = px.data.stocks()   # making graph using stocks dataset of Plotly express\n",
    "\n",
    "# creating dash components\n",
    "app.layout = html.Div(id = 'parent', children = [\n",
    "    html.H1(id = 'H1', children = 'Stock Prices over time', style = {'textAlign':'center',\\\n",
    "                                            'marginTop':40,'marginBottom':40}),\n",
    "# Creating Dropdown menu\n",
    "        dcc.Dropdown( id = 'dropdown',\n",
    "        options = [\n",
    "            {'label':'Google', 'value':'GOOG' },\n",
    "            {'label': 'Apple', 'value':'AAPL'},\n",
    "            {'label': 'Amazon', 'value':'AMZN'},\n",
    "            ],\n",
    "        value = 'GOOG'), # this set the default value of dropdown to Google\n",
    "        dcc.Graph(id = 'bar_plot')\n",
    "    ])\n",
    "    \n",
    "    \n"
   ]
  },
  {
   "cell_type": "markdown",
   "id": "e3db4474",
   "metadata": {},
   "source": [
    "### Dash Callback and Defining Function"
   ]
  },
  {
   "cell_type": "code",
   "execution_count": null,
   "id": "c4e2150c",
   "metadata": {},
   "outputs": [],
   "source": [
    "# callback help to connect plotly graph with dash components \n",
    "\n",
    "@app.callback(Output(component_id='bar_plot', component_property= 'figure'),\n",
    "              [Input(component_id='dropdown', component_property= 'value')])\n",
    "\n",
    "def graph_update(dropdown_value):\n",
    "    print(dropdown_value)\n",
    "    fig = go.Figure([go.Scatter(x = df['Date'], y = df['{}'.format(dropdown_value)],\\\n",
    "                     line = dict(color = 'firebrick', width = 4))\n",
    "                     ])\n",
    "    \n",
    "    fig.update_layout(title = 'Stock prices over time',\n",
    "                      xaxis_title = 'Dates',\n",
    "                      yaxis_title = 'Prices'\n",
    "                      )\n",
    "    return fig  \n",
    "\n",
    "\n",
    "\n",
    "if __name__ == '__main__': \n",
    "    app.run_server()"
   ]
  }
 ],
 "metadata": {
  "kernelspec": {
   "display_name": "Python 3",
   "language": "python",
   "name": "python3"
  },
  "language_info": {
   "codemirror_mode": {
    "name": "ipython",
    "version": 3
   },
   "file_extension": ".py",
   "mimetype": "text/x-python",
   "name": "python",
   "nbconvert_exporter": "python",
   "pygments_lexer": "ipython3",
   "version": "3.8.8"
  }
 },
 "nbformat": 4,
 "nbformat_minor": 5
}
